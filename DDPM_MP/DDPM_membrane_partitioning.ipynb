{
  "cells": [
    {
      "cell_type": "code",
      "execution_count": null,
      "metadata": {
        "id": "fhRJeW9uc6MR"
      },
      "outputs": [],
      "source": [
        "gpu_info = !nvidia-smi\n",
        "gpu_info = '\\n'.join(gpu_info)\n",
        "if gpu_info.find('failed') >= 0:\n",
        "  print('Not connected to a GPU')\n",
        "else:\n",
        "  print(gpu_info)"
      ]
    },
    {
      "cell_type": "code",
      "execution_count": null,
      "metadata": {
        "id": "tBXUZDeO68Ei"
      },
      "outputs": [],
      "source": [
        "!pip3 install einops\n",
        "!pip3 install pillow\n",
        "!pip3 install tqdm"
      ]
    },
    {
      "cell_type": "code",
      "execution_count": null,
      "metadata": {
        "id": "Iq1-aE4h7Dvr"
      },
      "outputs": [],
      "source": [
        "from torch.utils import data\n",
        "import numpy as np"
      ]
    },
    {
      "cell_type": "code",
      "execution_count": null,
      "metadata": {
        "id": "Tx5ULx6S0kWI"
      },
      "outputs": [],
      "source": [
        "%cd /content/DDPM_MP/denoising_diffusion_pytorch\n",
        "from denoising_diffusion_pytorch import Unet, GaussianDiffusion, Trainer, Dataset_traj, cycle, num_to_groups\n",
        "import torch\n",
        "from torch import nn\n",
        "device = torch.device(\"cuda\")\n",
        "# define the U-net structure\n",
        "model = Unet(\n",
        "    dim = 32,\n",
        "    dim_mults = (1, 2, 2, 4 ),\n",
        "    groups = 8\n",
        ").to(device)\n",
        "model = nn.DataParallel(model)\n",
        "model.to(device)\n",
        "\n",
        "# define diffusion model\n",
        "op_num = 1\n",
        "konw_op_num = 0\n",
        "diffusion = GaussianDiffusion(\n",
        "    model,                        # U-net model\n",
        "    timesteps = 1000,             # number of diffusion steps\n",
        "    unmask_number=konw_op_num+1,  # the dimension of x2 in P(x1|x2)\n",
        "    loss_type = 'l2'              # L1 or L2\n",
        ").to(device)\n",
        "\n",
        "#set training parameters\n",
        "trainer = Trainer(\n",
        "    diffusion,                                   # diffusion model\n",
        "    folder = '/content',                        # folder of trajectories\n",
        "    system = 'salm_10',  # name of the trajectory, the file {system}_traj.npy will be used as the training set\n",
        "    train_batch_size = 128,                      # training batch size\n",
        "    train_lr = 1e-5,                             # learning rate\n",
        "    train_num_steps = 100001,                   # total training steps\n",
        "    gradient_accumulate_every = 1,               # gradient accumulation steps\n",
        "    ema_decay = 0.995,                           # exponential moving average decay\n",
        "    op_number = op_num,\n",
        "    fp16 = False                                 # turn on mixed precision training with apex\n",
        ")\n",
        "trainer.train()\n"
      ]
    },
    {
      "cell_type": "code",
      "execution_count": null,
      "metadata": {
        "id": "WSE1cf1z6Wj4"
      },
      "outputs": [],
      "source": [
        "batch_size = 1000  #the number of samples generated in each batch\n",
        "sample_ds = Dataset_traj('/content/', 'z_predict')\n",
        "sample_ds.max_data = trainer.ds.max_data\n",
        "sample_ds.min_data = trainer.ds.min_data        #To ensure that the sample data is scaled in the same way as the training data\n",
        "sample_dl = cycle(data.DataLoader(sample_ds, batch_size = batch_size, shuffle=True, pin_memory=True))\n",
        "T_sample = np.load('/content/z_predict_traj.npy')\n",
        "print(T_sample)\n",
        "print(np.shape(T_sample))"
      ]
    },
    {
      "cell_type": "code",
      "execution_count": null,
      "metadata": {
        "id": "nE0jzP7Y8GU7"
      },
      "outputs": [],
      "source": [
        "%cd /content/DDPM_MP/denoising_diffusion_pytorch\n",
        "num_sample = 77407  #total number of samples\n",
        "model_id = 4\n",
        "trainer.load(model_id)\n",
        "\n",
        "batches = num_to_groups(num_sample, batch_size)\n",
        "all_ops_list = list(map(lambda n: trainer.ema_model.sample(trainer.op_number, batch_size=n, samples = next(sample_dl).cuda()[:n, :]), batches))\n",
        "all_ops = torch.cat(all_ops_list, dim=0).cpu()\n",
        "all_ops = trainer.rescale_sample_back(all_ops)\n",
        "np.save('/content/DDPM_MP/denoising_diffusion_pytorch/results/salm_10_final.npy', all_ops.numpy())"
      ]
    },
    {
      "cell_type": "code",
      "execution_count": null,
      "metadata": {
        "id": "vvewCC1n2WYh"
      },
      "outputs": [],
      "source": [
        "!zip -r /content/salm_10.zip /content/DDPM_MP\n"
      ]
    },
    {
      "cell_type": "code",
      "execution_count": null,
      "metadata": {
        "id": "UjsjcVqkcriq",
        "colab": {
          "base_uri": "https://localhost:8080/",
          "height": 34
        },
        "outputId": "659a476b-e13b-46d0-b04d-d6a061ac11c4"
      },
      "outputs": [
        {
          "output_type": "display_data",
          "data": {
            "text/plain": [
              "<IPython.core.display.Javascript object>"
            ],
            "application/javascript": [
              "\n",
              "    async function download(id, filename, size) {\n",
              "      if (!google.colab.kernel.accessAllowed) {\n",
              "        return;\n",
              "      }\n",
              "      const div = document.createElement('div');\n",
              "      const label = document.createElement('label');\n",
              "      label.textContent = `Downloading \"${filename}\": `;\n",
              "      div.appendChild(label);\n",
              "      const progress = document.createElement('progress');\n",
              "      progress.max = size;\n",
              "      div.appendChild(progress);\n",
              "      document.body.appendChild(div);\n",
              "\n",
              "      const buffers = [];\n",
              "      let downloaded = 0;\n",
              "\n",
              "      const channel = await google.colab.kernel.comms.open(id);\n",
              "      // Send a message to notify the kernel that we're ready.\n",
              "      channel.send({})\n",
              "\n",
              "      for await (const message of channel.messages) {\n",
              "        // Send a message to notify the kernel that we're ready.\n",
              "        channel.send({})\n",
              "        if (message.buffers) {\n",
              "          for (const buffer of message.buffers) {\n",
              "            buffers.push(buffer);\n",
              "            downloaded += buffer.byteLength;\n",
              "            progress.value = downloaded;\n",
              "          }\n",
              "        }\n",
              "      }\n",
              "      const blob = new Blob(buffers, {type: 'application/binary'});\n",
              "      const a = document.createElement('a');\n",
              "      a.href = window.URL.createObjectURL(blob);\n",
              "      a.download = filename;\n",
              "      div.appendChild(a);\n",
              "      a.click();\n",
              "      div.remove();\n",
              "    }\n",
              "  "
            ]
          },
          "metadata": {}
        },
        {
          "output_type": "display_data",
          "data": {
            "text/plain": [
              "<IPython.core.display.Javascript object>"
            ],
            "application/javascript": [
              "download(\"download_1a0727f8-1bd8-4778-9938-4e48b5d30ec9\", \"salb_10.zip\", 182280353)"
            ]
          },
          "metadata": {}
        }
      ],
      "source": [
        "from google.colab import files\n",
        "files.download(\"/content/salm_10.zip\")"
      ]
    }
  ],
  "metadata": {
    "accelerator": "GPU",
    "colab": {
      "provenance": []
    },
    "gpuClass": "standard",
    "kernelspec": {
      "display_name": "Python 3",
      "name": "python3"
    }
  },
  "nbformat": 4,
  "nbformat_minor": 0
}